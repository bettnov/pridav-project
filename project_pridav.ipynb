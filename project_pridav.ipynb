{
 "cells": [
  {
   "cell_type": "code",
   "execution_count": 1,
   "metadata": {},
   "outputs": [],
   "source": [
    "import pandas as pd"
   ]
  },
  {
   "cell_type": "markdown",
   "metadata": {},
   "source": [
    "## Načítanie dát"
   ]
  },
  {
   "cell_type": "markdown",
   "metadata": {},
   "source": [
    "#### dáta dotácie "
   ]
  },
  {
   "cell_type": "markdown",
   "metadata": {},
   "source": [
    "* súbory majú príponu `xls` pre roky 2008 - 2012, inak majú `xlsx`"
   ]
  },
  {
   "cell_type": "code",
   "execution_count": 18,
   "metadata": {},
   "outputs": [],
   "source": [
    "nazvy = []\n",
    "for y in range(2008, 2013):\n",
    "    nazvy.append(f\"data/dotacie{y}.xls\")\n",
    "for y in range(2013, 2023):\n",
    "    nazvy.append(f\"data/dotacie{y}.xlsx\")"
   ]
  },
  {
   "cell_type": "code",
   "execution_count": 19,
   "metadata": {},
   "outputs": [
    {
     "data": {
      "text/plain": [
       "['data/dotacie2008.xls',\n",
       " 'data/dotacie2009.xls',\n",
       " 'data/dotacie2010.xls',\n",
       " 'data/dotacie2011.xls',\n",
       " 'data/dotacie2012.xls',\n",
       " 'data/dotacie2013.xlsx',\n",
       " 'data/dotacie2014.xlsx',\n",
       " 'data/dotacie2015.xlsx',\n",
       " 'data/dotacie2016.xlsx',\n",
       " 'data/dotacie2017.xlsx',\n",
       " 'data/dotacie2018.xlsx',\n",
       " 'data/dotacie2019.xlsx',\n",
       " 'data/dotacie2020.xlsx',\n",
       " 'data/dotacie2021.xlsx',\n",
       " 'data/dotacie2022.xlsx']"
      ]
     },
     "execution_count": 19,
     "metadata": {},
     "output_type": "execute_result"
    }
   ],
   "source": [
    "nazvy"
   ]
  },
  {
   "cell_type": "markdown",
   "metadata": {},
   "source": [
    "* `sheet_name=None` načíta všetky hárky zo súboru do dictionary, kde values sú dataframe-y a keys sú názvy hárkov\n",
    "\n",
    "... well to nie je pravda, keys su roky a values su nejake divne slovniky ..."
   ]
  },
  {
   "cell_type": "code",
   "execution_count": 20,
   "metadata": {},
   "outputs": [
    {
     "name": "stderr",
     "output_type": "stream",
     "text": [
      "/home/viki/anaconda3/envs/pridav_proj/lib/python3.10/site-packages/openpyxl/worksheet/_read_only.py:79: UserWarning: Cell D24 is marked as a date but the serial value 6343450 is outside the limits for dates. The cell will be treated as an error.\n",
      "  for idx, row in parser.parse():\n",
      "/home/viki/anaconda3/envs/pridav_proj/lib/python3.10/site-packages/openpyxl/worksheet/_read_only.py:79: UserWarning: Cell D43 is marked as a date but the serial value 6975100 is outside the limits for dates. The cell will be treated as an error.\n",
      "  for idx, row in parser.parse():\n",
      "/home/viki/anaconda3/envs/pridav_proj/lib/python3.10/site-packages/openpyxl/worksheet/_read_only.py:79: UserWarning: Cell F44 is marked as a date but the serial value 7950880 is outside the limits for dates. The cell will be treated as an error.\n",
      "  for idx, row in parser.parse():\n",
      "/home/viki/anaconda3/envs/pridav_proj/lib/python3.10/site-packages/openpyxl/worksheet/_read_only.py:79: UserWarning: Cell D23 is marked as a date but the serial value 4389595 is outside the limits for dates. The cell will be treated as an error.\n",
      "  for idx, row in parser.parse():\n",
      "/home/viki/anaconda3/envs/pridav_proj/lib/python3.10/site-packages/openpyxl/worksheet/_read_only.py:79: UserWarning: Cell D43 is marked as a date but the serial value 8878115 is outside the limits for dates. The cell will be treated as an error.\n",
      "  for idx, row in parser.parse():\n",
      "/home/viki/anaconda3/envs/pridav_proj/lib/python3.10/site-packages/openpyxl/worksheet/_read_only.py:79: UserWarning: Cell D23 is marked as a date but the serial value 4298228 is outside the limits for dates. The cell will be treated as an error.\n",
      "  for idx, row in parser.parse():\n",
      "/home/viki/anaconda3/envs/pridav_proj/lib/python3.10/site-packages/openpyxl/worksheet/_read_only.py:79: UserWarning: Cell D43 is marked as a date but the serial value 8318468 is outside the limits for dates. The cell will be treated as an error.\n",
      "  for idx, row in parser.parse():\n",
      "/home/viki/anaconda3/envs/pridav_proj/lib/python3.10/site-packages/openpyxl/worksheet/_read_only.py:79: UserWarning: Cell C77 is marked as a date but the serial value 25107902.024399996 is outside the limits for dates. The cell will be treated as an error.\n",
      "  for idx, row in parser.parse():\n",
      "/home/viki/anaconda3/envs/pridav_proj/lib/python3.10/site-packages/openpyxl/worksheet/_read_only.py:79: UserWarning: Cell D77 is marked as a date but the serial value 29182660.2 is outside the limits for dates. The cell will be treated as an error.\n",
      "  for idx, row in parser.parse():\n",
      "/home/viki/anaconda3/envs/pridav_proj/lib/python3.10/site-packages/openpyxl/worksheet/_read_only.py:79: UserWarning: Cell D23 is marked as a date but the serial value 4956630 is outside the limits for dates. The cell will be treated as an error.\n",
      "  for idx, row in parser.parse():\n",
      "/home/viki/anaconda3/envs/pridav_proj/lib/python3.10/site-packages/openpyxl/worksheet/_read_only.py:79: UserWarning: Cell D26 is marked as a date but the serial value 4298228 is outside the limits for dates. The cell will be treated as an error.\n",
      "  for idx, row in parser.parse():\n",
      "/home/viki/anaconda3/envs/pridav_proj/lib/python3.10/site-packages/openpyxl/worksheet/_read_only.py:79: UserWarning: Cell D46 is marked as a date but the serial value 8215407 is outside the limits for dates. The cell will be treated as an error.\n",
      "  for idx, row in parser.parse():\n",
      "/home/viki/anaconda3/envs/pridav_proj/lib/python3.10/site-packages/openpyxl/worksheet/_read_only.py:79: UserWarning: Cell C77 is marked as a date but the serial value 27232114.670799997 is outside the limits for dates. The cell will be treated as an error.\n",
      "  for idx, row in parser.parse():\n",
      "/home/viki/anaconda3/envs/pridav_proj/lib/python3.10/site-packages/openpyxl/worksheet/_read_only.py:79: UserWarning: Cell D77 is marked as a date but the serial value 32441146.875 is outside the limits for dates. The cell will be treated as an error.\n",
      "  for idx, row in parser.parse():\n",
      "/home/viki/anaconda3/envs/pridav_proj/lib/python3.10/site-packages/openpyxl/worksheet/_read_only.py:79: UserWarning: Cell D23 is marked as a date but the serial value 4728948 is outside the limits for dates. The cell will be treated as an error.\n",
      "  for idx, row in parser.parse():\n",
      "/home/viki/anaconda3/envs/pridav_proj/lib/python3.10/site-packages/openpyxl/worksheet/_read_only.py:79: UserWarning: Cell D26 is marked as a date but the serial value 4956630 is outside the limits for dates. The cell will be treated as an error.\n",
      "  for idx, row in parser.parse():\n",
      "/home/viki/anaconda3/envs/pridav_proj/lib/python3.10/site-packages/openpyxl/worksheet/_read_only.py:79: UserWarning: Cell D46 is marked as a date but the serial value 8323404 is outside the limits for dates. The cell will be treated as an error.\n",
      "  for idx, row in parser.parse():\n",
      "/home/viki/anaconda3/envs/pridav_proj/lib/python3.10/site-packages/openpyxl/worksheet/_read_only.py:79: UserWarning: Cell C77 is marked as a date but the serial value 27905737.516799994 is outside the limits for dates. The cell will be treated as an error.\n",
      "  for idx, row in parser.parse():\n",
      "/home/viki/anaconda3/envs/pridav_proj/lib/python3.10/site-packages/openpyxl/worksheet/_read_only.py:79: UserWarning: Cell D77 is marked as a date but the serial value 32225707.125 is outside the limits for dates. The cell will be treated as an error.\n",
      "  for idx, row in parser.parse():\n",
      "/home/viki/anaconda3/envs/pridav_proj/lib/python3.10/site-packages/openpyxl/worksheet/_read_only.py:79: UserWarning: Cell D23 is marked as a date but the serial value 5343925 is outside the limits for dates. The cell will be treated as an error.\n",
      "  for idx, row in parser.parse():\n",
      "/home/viki/anaconda3/envs/pridav_proj/lib/python3.10/site-packages/openpyxl/worksheet/_read_only.py:79: UserWarning: Cell D46 is marked as a date but the serial value 9480900 is outside the limits for dates. The cell will be treated as an error.\n",
      "  for idx, row in parser.parse():\n",
      "/home/viki/anaconda3/envs/pridav_proj/lib/python3.10/site-packages/openpyxl/worksheet/_read_only.py:79: UserWarning: Cell D23 is marked as a date but the serial value 5062100 is outside the limits for dates. The cell will be treated as an error.\n",
      "  for idx, row in parser.parse():\n",
      "/home/viki/anaconda3/envs/pridav_proj/lib/python3.10/site-packages/openpyxl/worksheet/_read_only.py:79: UserWarning: Cell D26 is marked as a date but the serial value 5343925 is outside the limits for dates. The cell will be treated as an error.\n",
      "  for idx, row in parser.parse():\n",
      "/home/viki/anaconda3/envs/pridav_proj/lib/python3.10/site-packages/openpyxl/worksheet/_read_only.py:79: UserWarning: Cell D46 is marked as a date but the serial value 9676850 is outside the limits for dates. The cell will be treated as an error.\n",
      "  for idx, row in parser.parse():\n",
      "/home/viki/anaconda3/envs/pridav_proj/lib/python3.10/site-packages/openpyxl/worksheet/_read_only.py:79: UserWarning: Cell D23 is marked as a date but the serial value 4851050 is outside the limits for dates. The cell will be treated as an error.\n",
      "  for idx, row in parser.parse():\n",
      "/home/viki/anaconda3/envs/pridav_proj/lib/python3.10/site-packages/openpyxl/worksheet/_read_only.py:79: UserWarning: Cell D26 is marked as a date but the serial value 5062100 is outside the limits for dates. The cell will be treated as an error.\n",
      "  for idx, row in parser.parse():\n",
      "/home/viki/anaconda3/envs/pridav_proj/lib/python3.10/site-packages/openpyxl/worksheet/_read_only.py:79: UserWarning: Cell D46 is marked as a date but the serial value 10530350 is outside the limits for dates. The cell will be treated as an error.\n",
      "  for idx, row in parser.parse():\n",
      "/home/viki/anaconda3/envs/pridav_proj/lib/python3.10/site-packages/openpyxl/worksheet/_read_only.py:79: UserWarning: Cell D23 is marked as a date but the serial value 4826025 is outside the limits for dates. The cell will be treated as an error.\n",
      "  for idx, row in parser.parse():\n",
      "/home/viki/anaconda3/envs/pridav_proj/lib/python3.10/site-packages/openpyxl/worksheet/_read_only.py:79: UserWarning: Cell D26 is marked as a date but the serial value 4851050 is outside the limits for dates. The cell will be treated as an error.\n",
      "  for idx, row in parser.parse():\n",
      "/home/viki/anaconda3/envs/pridav_proj/lib/python3.10/site-packages/openpyxl/worksheet/_read_only.py:79: UserWarning: Cell F46 is marked as a date but the serial value 9200135 is outside the limits for dates. The cell will be treated as an error.\n",
      "  for idx, row in parser.parse():\n",
      "/home/viki/anaconda3/envs/pridav_proj/lib/python3.10/site-packages/openpyxl/worksheet/_read_only.py:79: UserWarning: Cell D23 is marked as a date but the serial value 4946000 is outside the limits for dates. The cell will be treated as an error.\n",
      "  for idx, row in parser.parse():\n",
      "/home/viki/anaconda3/envs/pridav_proj/lib/python3.10/site-packages/openpyxl/worksheet/_read_only.py:79: UserWarning: Cell D26 is marked as a date but the serial value 4826025 is outside the limits for dates. The cell will be treated as an error.\n",
      "  for idx, row in parser.parse():\n",
      "/home/viki/anaconda3/envs/pridav_proj/lib/python3.10/site-packages/openpyxl/worksheet/_read_only.py:79: UserWarning: Cell F46 is marked as a date but the serial value 9822340 is outside the limits for dates. The cell will be treated as an error.\n",
      "  for idx, row in parser.parse():\n"
     ]
    }
   ],
   "source": [
    "dotacie = {}\n",
    "\n",
    "for i, file_name in enumerate(nazvy):\n",
    "    dotacie[i+2008] = pd.read_excel(file_name, sheet_name=None)\n",
    "#tuto ma problem s nejakymi datumami"
   ]
  },
  {
   "cell_type": "code",
   "execution_count": 23,
   "metadata": {},
   "outputs": [
    {
     "name": "stdout",
     "output_type": "stream",
     "text": [
      "<class 'dict'>\n"
     ]
    }
   ],
   "source": [
    "#display(dotacie[2008])\n",
    "print(type(dotacie[2008]))"
   ]
  },
  {
   "cell_type": "markdown",
   "metadata": {},
   "source": [
    "#### regzam data:"
   ]
  },
  {
   "cell_type": "code",
   "execution_count": 11,
   "metadata": {},
   "outputs": [
    {
     "data": {
      "text/html": [
       "<div>\n",
       "<style scoped>\n",
       "    .dataframe tbody tr th:only-of-type {\n",
       "        vertical-align: middle;\n",
       "    }\n",
       "\n",
       "    .dataframe tbody tr th {\n",
       "        vertical-align: top;\n",
       "    }\n",
       "\n",
       "    .dataframe thead th {\n",
       "        text-align: right;\n",
       "    }\n",
       "</style>\n",
       "<table border=\"1\" class=\"dataframe\">\n",
       "  <thead>\n",
       "    <tr style=\"text-align: right;\">\n",
       "      <th></th>\n",
       "      <th>Id</th>\n",
       "      <th>GivenName</th>\n",
       "      <th>FamilyName</th>\n",
       "      <th>DegreePedagogicalAcademic</th>\n",
       "      <th>DegreeMaster</th>\n",
       "      <th>DegreeDoctor</th>\n",
       "      <th>Employment</th>\n",
       "      <th>Guarantee</th>\n",
       "    </tr>\n",
       "  </thead>\n",
       "  <tbody>\n",
       "    <tr>\n",
       "      <th>0</th>\n",
       "      <td>18799121690</td>\n",
       "      <td>Štefan</td>\n",
       "      <td>Kočan</td>\n",
       "      <td>Doc.</td>\n",
       "      <td>JUDr.</td>\n",
       "      <td>PhD.</td>\n",
       "      <td>NaN</td>\n",
       "      <td>NaN</td>\n",
       "    </tr>\n",
       "    <tr>\n",
       "      <th>1</th>\n",
       "      <td>14002860472</td>\n",
       "      <td>Dušan</td>\n",
       "      <td>Korgo</td>\n",
       "      <td>DOC</td>\n",
       "      <td>JUDR</td>\n",
       "      <td>PHD</td>\n",
       "      <td>NaN</td>\n",
       "      <td>NaN</td>\n",
       "    </tr>\n",
       "    <tr>\n",
       "      <th>2</th>\n",
       "      <td>17922733804</td>\n",
       "      <td>Ján</td>\n",
       "      <td>Buzalka</td>\n",
       "      <td>prof.</td>\n",
       "      <td>PhDr.</td>\n",
       "      <td>CSc.</td>\n",
       "      <td>NaN</td>\n",
       "      <td>NaN</td>\n",
       "    </tr>\n",
       "    <tr>\n",
       "      <th>3</th>\n",
       "      <td>16290288493</td>\n",
       "      <td>Jozef</td>\n",
       "      <td>Stieranka</td>\n",
       "      <td>prof.</td>\n",
       "      <td>Ing.</td>\n",
       "      <td>PhD.</td>\n",
       "      <td>NaN</td>\n",
       "      <td>NaN</td>\n",
       "    </tr>\n",
       "    <tr>\n",
       "      <th>4</th>\n",
       "      <td>21401303068</td>\n",
       "      <td>Ľuboš</td>\n",
       "      <td>Wäldl</td>\n",
       "      <td>doc.</td>\n",
       "      <td>JUDr.</td>\n",
       "      <td>PhD.</td>\n",
       "      <td>NaN</td>\n",
       "      <td>NaN</td>\n",
       "    </tr>\n",
       "    <tr>\n",
       "      <th>...</th>\n",
       "      <td>...</td>\n",
       "      <td>...</td>\n",
       "      <td>...</td>\n",
       "      <td>...</td>\n",
       "      <td>...</td>\n",
       "      <td>...</td>\n",
       "      <td>...</td>\n",
       "      <td>...</td>\n",
       "    </tr>\n",
       "    <tr>\n",
       "      <th>32730</th>\n",
       "      <td>12110964830</td>\n",
       "      <td>Joža</td>\n",
       "      <td>Spurný</td>\n",
       "      <td>doc.</td>\n",
       "      <td>JUDr.PhDr.</td>\n",
       "      <td>Ph.D.</td>\n",
       "      <td>NaN</td>\n",
       "      <td>NaN</td>\n",
       "    </tr>\n",
       "    <tr>\n",
       "      <th>32731</th>\n",
       "      <td>13500390262</td>\n",
       "      <td>Marcela</td>\n",
       "      <td>Harčárová</td>\n",
       "      <td>None</td>\n",
       "      <td>Mgr.</td>\n",
       "      <td>None</td>\n",
       "      <td>NaN</td>\n",
       "      <td>NaN</td>\n",
       "    </tr>\n",
       "    <tr>\n",
       "      <th>32732</th>\n",
       "      <td>17108478442</td>\n",
       "      <td>Jana</td>\n",
       "      <td>Juhásová</td>\n",
       "      <td>None</td>\n",
       "      <td>Mgr.</td>\n",
       "      <td>None</td>\n",
       "      <td>NaN</td>\n",
       "      <td>NaN</td>\n",
       "    </tr>\n",
       "    <tr>\n",
       "      <th>32733</th>\n",
       "      <td>15917135755</td>\n",
       "      <td>Miriama</td>\n",
       "      <td>Kubušová</td>\n",
       "      <td>None</td>\n",
       "      <td>Mgr.</td>\n",
       "      <td>None</td>\n",
       "      <td>NaN</td>\n",
       "      <td>NaN</td>\n",
       "    </tr>\n",
       "    <tr>\n",
       "      <th>32734</th>\n",
       "      <td>51680829014</td>\n",
       "      <td>Jana</td>\n",
       "      <td>Ochodnícka</td>\n",
       "      <td>None</td>\n",
       "      <td>PhDr.</td>\n",
       "      <td>None</td>\n",
       "      <td>NaN</td>\n",
       "      <td>NaN</td>\n",
       "    </tr>\n",
       "  </tbody>\n",
       "</table>\n",
       "<p>32735 rows × 8 columns</p>\n",
       "</div>"
      ],
      "text/plain": [
       "                Id GivenName  FamilyName DegreePedagogicalAcademic  \\\n",
       "0      18799121690    Štefan       Kočan                      Doc.   \n",
       "1      14002860472     Dušan       Korgo                       DOC   \n",
       "2      17922733804       Ján     Buzalka                     prof.   \n",
       "3      16290288493     Jozef   Stieranka                     prof.   \n",
       "4      21401303068     Ľuboš       Wäldl                      doc.   \n",
       "...            ...       ...         ...                       ...   \n",
       "32730  12110964830      Joža      Spurný                      doc.   \n",
       "32731  13500390262   Marcela   Harčárová                      None   \n",
       "32732  17108478442      Jana    Juhásová                      None   \n",
       "32733  15917135755   Miriama    Kubušová                      None   \n",
       "32734  51680829014      Jana  Ochodnícka                      None   \n",
       "\n",
       "      DegreeMaster DegreeDoctor  Employment  Guarantee  \n",
       "0            JUDr.         PhD.         NaN        NaN  \n",
       "1             JUDR          PHD         NaN        NaN  \n",
       "2            PhDr.         CSc.         NaN        NaN  \n",
       "3             Ing.         PhD.         NaN        NaN  \n",
       "4            JUDr.         PhD.         NaN        NaN  \n",
       "...            ...          ...         ...        ...  \n",
       "32730   JUDr.PhDr.        Ph.D.         NaN        NaN  \n",
       "32731         Mgr.         None         NaN        NaN  \n",
       "32732         Mgr.         None         NaN        NaN  \n",
       "32733         Mgr.         None         NaN        NaN  \n",
       "32734        PhDr.         None         NaN        NaN  \n",
       "\n",
       "[32735 rows x 8 columns]"
      ]
     },
     "metadata": {},
     "output_type": "display_data"
    }
   ],
   "source": [
    "# toto nieco robi, ale nenacitava to vsetky data: vid Employment NaN, pricom tam malo nacitat este dalsie urovne ako University a pod.\n",
    "regzam_data = pd.read_xml('./data/regzam_portalvs.xml')\n",
    "display(regzam_data)"
   ]
  },
  {
   "cell_type": "code",
   "execution_count": null,
   "metadata": {},
   "outputs": [],
   "source": []
  }
 ],
 "metadata": {
  "kernelspec": {
   "display_name": "Python 3 (ipykernel)",
   "language": "python",
   "name": "python3"
  },
  "language_info": {
   "codemirror_mode": {
    "name": "ipython",
    "version": 3
   },
   "file_extension": ".py",
   "mimetype": "text/x-python",
   "name": "python",
   "nbconvert_exporter": "python",
   "pygments_lexer": "ipython3",
   "version": "3.10.8"
  }
 },
 "nbformat": 4,
 "nbformat_minor": 4
}
