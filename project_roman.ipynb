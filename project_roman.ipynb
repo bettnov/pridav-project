{
 "cells": [
  {
   "cell_type": "code",
   "execution_count": 2,
   "metadata": {},
   "outputs": [],
   "source": [
    "import pandas as pd"
   ]
  },
  {
   "cell_type": "code",
   "execution_count": 5,
   "metadata": {},
   "outputs": [],
   "source": [
    "sheets = pd.read_excel(\"data/dotacie2008.xls\", sheet_name=None)"
   ]
  },
  {
   "cell_type": "code",
   "execution_count": 10,
   "metadata": {},
   "outputs": [
    {
     "name": "stdout",
     "output_type": "stream",
     "text": [
      "<class 'dict'>\n",
      "T1-rozpis_2008_2007\n",
      "T1-V14_rep\n",
      "T1-2008_ZORO\n",
      "T2-KN\n",
      "T2a-KAP\n",
      "T3-vstupy\n",
      "T4-štruk_077\n",
      "T5a-absolventi\n",
      "T5b-študenti\n",
      "T6-výkon\n",
      "T6-vyk_Fak\n",
      "T7-mzdy\n",
      "T8-TaS\n",
      "T9-kultúra-šport\n",
      "T9a_rozpis na TJ,ŠK\n",
      "T10-prev_ŠD\n",
      "T11-sumár_ŠD\n",
      "T12-špecifiká\n",
      "T13-sumár-špec\n",
      "T14-VVZ-mzdy-TaS\n",
      "T15-štipendiá-soc-Drš\n",
      "T16-KKŠ\n",
      "T17-Klinické \n",
      "T18-Mot.- štip\n",
      "T19-počty studentov\n",
      "T20-Publik\n",
      "T21-info_syst\n",
      "T22-praxe\n",
      "číselnik-prog\n",
      "premenné\n"
     ]
    }
   ],
   "source": [
    "print(type(sheets))\n",
    "print(*sheets, sep=\"\\n\")"
   ]
  },
  {
   "cell_type": "code",
   "execution_count": 11,
   "metadata": {},
   "outputs": [],
   "source": [
    "df = pd.read_excel(\"data/dotacie2022.xlsx\")"
   ]
  },
  {
   "cell_type": "code",
   "execution_count": null,
   "metadata": {},
   "outputs": [],
   "source": []
  }
 ],
 "metadata": {
  "kernelspec": {
   "display_name": "Python 3 (ipykernel)",
   "language": "python",
   "name": "python3"
  },
  "language_info": {
   "codemirror_mode": {
    "name": "ipython",
    "version": 3
   },
   "file_extension": ".py",
   "mimetype": "text/x-python",
   "name": "python",
   "nbconvert_exporter": "python",
   "pygments_lexer": "ipython3",
   "version": "3.9.13"
  }
 },
 "nbformat": 4,
 "nbformat_minor": 4
}
